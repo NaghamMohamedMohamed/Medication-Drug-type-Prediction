{
  "cells": [
    {
      "cell_type": "markdown",
      "metadata": {
        "id": "0gOh-3M1dv-T"
      },
      "source": [
        "## **Problem Statement**\n",
        "- A supervised ML model which uses Decision Tree Classifier to predict\n",
        "the appropriate medication/Drug type ( target variable ) for patients suffering from a specific illness based on their :\n",
        "  1. Age\n",
        "  2. Sex\n",
        "  3. Blood Pressure.\n",
        "  4. Cholesterol levels.\n",
        "  5. Na_to_K.\n",
        "\n",
        "\n"
      ]
    },
    {
      "cell_type": "markdown",
      "metadata": {
        "id": "s7vvjNtHuqgf"
      },
      "source": [
        "#### **1.Importing libraries**"
      ]
    },
    {
      "cell_type": "code",
      "execution_count": 1,
      "metadata": {
        "id": "dYTvNHV9un40"
      },
      "outputs": [],
      "source": [
        "import pandas as pd\n",
        "import numpy as np\n",
        "import matplotlib.pyplot as plt\n",
        "from sklearn.model_selection import train_test_split\n",
        "from sklearn.tree import DecisionTreeClassifier\n",
        "from sklearn.metrics import accuracy_score"
      ]
    },
    {
      "cell_type": "markdown",
      "metadata": {
        "id": "d5AIGOaYu_a4"
      },
      "source": [
        "#### **2.Loading the data**"
      ]
    },
    {
      "cell_type": "code",
      "execution_count": 2,
      "metadata": {
        "colab": {
          "base_uri": "https://localhost:8080/"
        },
        "id": "q33Xse7VvEwO",
        "outputId": "59e54f86-8e5b-430e-be46-85b8a7b65e61"
      },
      "outputs": [
        {
          "output_type": "stream",
          "name": "stdout",
          "text": [
            "<class 'pandas.core.frame.DataFrame'>\n",
            "RangeIndex: 200 entries, 0 to 199\n",
            "Data columns (total 6 columns):\n",
            " #   Column       Non-Null Count  Dtype  \n",
            "---  ------       --------------  -----  \n",
            " 0   Age          200 non-null    int64  \n",
            " 1   Sex          200 non-null    object \n",
            " 2   BP           198 non-null    object \n",
            " 3   Cholesterol  198 non-null    object \n",
            " 4   Na_to_K      199 non-null    float64\n",
            " 5   Drug         200 non-null    object \n",
            "dtypes: float64(1), int64(1), object(4)\n",
            "memory usage: 9.5+ KB\n",
            "None\n"
          ]
        }
      ],
      "source": [
        "data = pd.read_csv(\"drug.csv\")\n",
        "\n",
        "print(data.info())"
      ]
    },
    {
      "cell_type": "markdown",
      "metadata": {
        "id": "CSdXhJ9FjGeA"
      },
      "source": [
        "#### **3.Data preprocessing**"
      ]
    },
    {
      "cell_type": "markdown",
      "source": [
        "#### **Handling the missing Values**"
      ],
      "metadata": {
        "id": "SBVerf3n-s5d"
      }
    },
    {
      "cell_type": "code",
      "source": [
        "# Checking the number of null values\n",
        "data.isnull().sum()"
      ],
      "metadata": {
        "colab": {
          "base_uri": "https://localhost:8080/"
        },
        "id": "8-XSAPAE8MRe",
        "outputId": "7b2e6a21-5eb3-427e-d315-c86118a494e4"
      },
      "execution_count": 3,
      "outputs": [
        {
          "output_type": "execute_result",
          "data": {
            "text/plain": [
              "Age            0\n",
              "Sex            0\n",
              "BP             2\n",
              "Cholesterol    2\n",
              "Na_to_K        1\n",
              "Drug           0\n",
              "dtype: int64"
            ]
          },
          "metadata": {},
          "execution_count": 3
        }
      ]
    },
    {
      "cell_type": "code",
      "source": [
        "# Handle missing values by dropping them as they represent very small number of data\n",
        "data.dropna( inplace=True )"
      ],
      "metadata": {
        "id": "UBdpiD3K-RJd"
      },
      "execution_count": 4,
      "outputs": []
    },
    {
      "cell_type": "markdown",
      "source": [
        "#### **Categorical Encoding**"
      ],
      "metadata": {
        "id": "8lgTv979-xiS"
      }
    },
    {
      "cell_type": "code",
      "source": [
        "# One Hot Encoding\n",
        "data_encoded = pd.get_dummies(data, columns=[\"Sex\", \"BP\", \"Cholesterol\"], drop_first=True)"
      ],
      "metadata": {
        "id": "u7i2RgyH-0Rw"
      },
      "execution_count": 5,
      "outputs": []
    },
    {
      "cell_type": "code",
      "source": [
        "# Label Encoding\n",
        "drug_dict = { \"drugA\" : 1 ,  \"drugB\" : 2 , \"drugC\" : 3 , \"drugX\": 4 , \"drugY\" : 5}\n",
        "data_encoded[\"Drug\"] = data_encoded[\"Drug\"].replace(drug_dict)"
      ],
      "metadata": {
        "id": "lw_b69upULbG"
      },
      "execution_count": 6,
      "outputs": []
    },
    {
      "cell_type": "code",
      "source": [
        "data_encoded"
      ],
      "metadata": {
        "colab": {
          "base_uri": "https://localhost:8080/",
          "height": 423
        },
        "id": "ucoAJL0qUmMI",
        "outputId": "1059e373-7db8-4f4f-e70f-85afab18893d"
      },
      "execution_count": 7,
      "outputs": [
        {
          "output_type": "execute_result",
          "data": {
            "text/plain": [
              "     Age  Na_to_K  Drug  Sex_M  BP_LOW  BP_NORMAL  Cholesterol_NORMAL\n",
              "0     23   25.355     5      0       0          0                   0\n",
              "1     47   13.093     3      1       1          0                   0\n",
              "2     47   10.114     3      1       1          0                   0\n",
              "4     61   18.043     5      0       1          0                   0\n",
              "5     22    8.607     4      0       0          1                   0\n",
              "..   ...      ...   ...    ...     ...        ...                 ...\n",
              "194   46   34.686     5      0       0          0                   0\n",
              "195   56   11.567     3      0       1          0                   0\n",
              "196   16   12.006     3      1       1          0                   0\n",
              "197   52    9.894     4      1       0          1                   0\n",
              "199   40   11.349     4      0       1          0                   1\n",
              "\n",
              "[195 rows x 7 columns]"
            ],
            "text/html": [
              "\n",
              "  <div id=\"df-6c30fd53-fa78-423e-993b-1b711921c239\" class=\"colab-df-container\">\n",
              "    <div>\n",
              "<style scoped>\n",
              "    .dataframe tbody tr th:only-of-type {\n",
              "        vertical-align: middle;\n",
              "    }\n",
              "\n",
              "    .dataframe tbody tr th {\n",
              "        vertical-align: top;\n",
              "    }\n",
              "\n",
              "    .dataframe thead th {\n",
              "        text-align: right;\n",
              "    }\n",
              "</style>\n",
              "<table border=\"1\" class=\"dataframe\">\n",
              "  <thead>\n",
              "    <tr style=\"text-align: right;\">\n",
              "      <th></th>\n",
              "      <th>Age</th>\n",
              "      <th>Na_to_K</th>\n",
              "      <th>Drug</th>\n",
              "      <th>Sex_M</th>\n",
              "      <th>BP_LOW</th>\n",
              "      <th>BP_NORMAL</th>\n",
              "      <th>Cholesterol_NORMAL</th>\n",
              "    </tr>\n",
              "  </thead>\n",
              "  <tbody>\n",
              "    <tr>\n",
              "      <th>0</th>\n",
              "      <td>23</td>\n",
              "      <td>25.355</td>\n",
              "      <td>5</td>\n",
              "      <td>0</td>\n",
              "      <td>0</td>\n",
              "      <td>0</td>\n",
              "      <td>0</td>\n",
              "    </tr>\n",
              "    <tr>\n",
              "      <th>1</th>\n",
              "      <td>47</td>\n",
              "      <td>13.093</td>\n",
              "      <td>3</td>\n",
              "      <td>1</td>\n",
              "      <td>1</td>\n",
              "      <td>0</td>\n",
              "      <td>0</td>\n",
              "    </tr>\n",
              "    <tr>\n",
              "      <th>2</th>\n",
              "      <td>47</td>\n",
              "      <td>10.114</td>\n",
              "      <td>3</td>\n",
              "      <td>1</td>\n",
              "      <td>1</td>\n",
              "      <td>0</td>\n",
              "      <td>0</td>\n",
              "    </tr>\n",
              "    <tr>\n",
              "      <th>4</th>\n",
              "      <td>61</td>\n",
              "      <td>18.043</td>\n",
              "      <td>5</td>\n",
              "      <td>0</td>\n",
              "      <td>1</td>\n",
              "      <td>0</td>\n",
              "      <td>0</td>\n",
              "    </tr>\n",
              "    <tr>\n",
              "      <th>5</th>\n",
              "      <td>22</td>\n",
              "      <td>8.607</td>\n",
              "      <td>4</td>\n",
              "      <td>0</td>\n",
              "      <td>0</td>\n",
              "      <td>1</td>\n",
              "      <td>0</td>\n",
              "    </tr>\n",
              "    <tr>\n",
              "      <th>...</th>\n",
              "      <td>...</td>\n",
              "      <td>...</td>\n",
              "      <td>...</td>\n",
              "      <td>...</td>\n",
              "      <td>...</td>\n",
              "      <td>...</td>\n",
              "      <td>...</td>\n",
              "    </tr>\n",
              "    <tr>\n",
              "      <th>194</th>\n",
              "      <td>46</td>\n",
              "      <td>34.686</td>\n",
              "      <td>5</td>\n",
              "      <td>0</td>\n",
              "      <td>0</td>\n",
              "      <td>0</td>\n",
              "      <td>0</td>\n",
              "    </tr>\n",
              "    <tr>\n",
              "      <th>195</th>\n",
              "      <td>56</td>\n",
              "      <td>11.567</td>\n",
              "      <td>3</td>\n",
              "      <td>0</td>\n",
              "      <td>1</td>\n",
              "      <td>0</td>\n",
              "      <td>0</td>\n",
              "    </tr>\n",
              "    <tr>\n",
              "      <th>196</th>\n",
              "      <td>16</td>\n",
              "      <td>12.006</td>\n",
              "      <td>3</td>\n",
              "      <td>1</td>\n",
              "      <td>1</td>\n",
              "      <td>0</td>\n",
              "      <td>0</td>\n",
              "    </tr>\n",
              "    <tr>\n",
              "      <th>197</th>\n",
              "      <td>52</td>\n",
              "      <td>9.894</td>\n",
              "      <td>4</td>\n",
              "      <td>1</td>\n",
              "      <td>0</td>\n",
              "      <td>1</td>\n",
              "      <td>0</td>\n",
              "    </tr>\n",
              "    <tr>\n",
              "      <th>199</th>\n",
              "      <td>40</td>\n",
              "      <td>11.349</td>\n",
              "      <td>4</td>\n",
              "      <td>0</td>\n",
              "      <td>1</td>\n",
              "      <td>0</td>\n",
              "      <td>1</td>\n",
              "    </tr>\n",
              "  </tbody>\n",
              "</table>\n",
              "<p>195 rows × 7 columns</p>\n",
              "</div>\n",
              "    <div class=\"colab-df-buttons\">\n",
              "\n",
              "  <div class=\"colab-df-container\">\n",
              "    <button class=\"colab-df-convert\" onclick=\"convertToInteractive('df-6c30fd53-fa78-423e-993b-1b711921c239')\"\n",
              "            title=\"Convert this dataframe to an interactive table.\"\n",
              "            style=\"display:none;\">\n",
              "\n",
              "  <svg xmlns=\"http://www.w3.org/2000/svg\" height=\"24px\" viewBox=\"0 -960 960 960\">\n",
              "    <path d=\"M120-120v-720h720v720H120Zm60-500h600v-160H180v160Zm220 220h160v-160H400v160Zm0 220h160v-160H400v160ZM180-400h160v-160H180v160Zm440 0h160v-160H620v160ZM180-180h160v-160H180v160Zm440 0h160v-160H620v160Z\"/>\n",
              "  </svg>\n",
              "    </button>\n",
              "\n",
              "  <style>\n",
              "    .colab-df-container {\n",
              "      display:flex;\n",
              "      gap: 12px;\n",
              "    }\n",
              "\n",
              "    .colab-df-convert {\n",
              "      background-color: #E8F0FE;\n",
              "      border: none;\n",
              "      border-radius: 50%;\n",
              "      cursor: pointer;\n",
              "      display: none;\n",
              "      fill: #1967D2;\n",
              "      height: 32px;\n",
              "      padding: 0 0 0 0;\n",
              "      width: 32px;\n",
              "    }\n",
              "\n",
              "    .colab-df-convert:hover {\n",
              "      background-color: #E2EBFA;\n",
              "      box-shadow: 0px 1px 2px rgba(60, 64, 67, 0.3), 0px 1px 3px 1px rgba(60, 64, 67, 0.15);\n",
              "      fill: #174EA6;\n",
              "    }\n",
              "\n",
              "    .colab-df-buttons div {\n",
              "      margin-bottom: 4px;\n",
              "    }\n",
              "\n",
              "    [theme=dark] .colab-df-convert {\n",
              "      background-color: #3B4455;\n",
              "      fill: #D2E3FC;\n",
              "    }\n",
              "\n",
              "    [theme=dark] .colab-df-convert:hover {\n",
              "      background-color: #434B5C;\n",
              "      box-shadow: 0px 1px 3px 1px rgba(0, 0, 0, 0.15);\n",
              "      filter: drop-shadow(0px 1px 2px rgba(0, 0, 0, 0.3));\n",
              "      fill: #FFFFFF;\n",
              "    }\n",
              "  </style>\n",
              "\n",
              "    <script>\n",
              "      const buttonEl =\n",
              "        document.querySelector('#df-6c30fd53-fa78-423e-993b-1b711921c239 button.colab-df-convert');\n",
              "      buttonEl.style.display =\n",
              "        google.colab.kernel.accessAllowed ? 'block' : 'none';\n",
              "\n",
              "      async function convertToInteractive(key) {\n",
              "        const element = document.querySelector('#df-6c30fd53-fa78-423e-993b-1b711921c239');\n",
              "        const dataTable =\n",
              "          await google.colab.kernel.invokeFunction('convertToInteractive',\n",
              "                                                    [key], {});\n",
              "        if (!dataTable) return;\n",
              "\n",
              "        const docLinkHtml = 'Like what you see? Visit the ' +\n",
              "          '<a target=\"_blank\" href=https://colab.research.google.com/notebooks/data_table.ipynb>data table notebook</a>'\n",
              "          + ' to learn more about interactive tables.';\n",
              "        element.innerHTML = '';\n",
              "        dataTable['output_type'] = 'display_data';\n",
              "        await google.colab.output.renderOutput(dataTable, element);\n",
              "        const docLink = document.createElement('div');\n",
              "        docLink.innerHTML = docLinkHtml;\n",
              "        element.appendChild(docLink);\n",
              "      }\n",
              "    </script>\n",
              "  </div>\n",
              "\n",
              "\n",
              "<div id=\"df-b458b35d-dd43-4a14-82d4-6df29e477651\">\n",
              "  <button class=\"colab-df-quickchart\" onclick=\"quickchart('df-b458b35d-dd43-4a14-82d4-6df29e477651')\"\n",
              "            title=\"Suggest charts\"\n",
              "            style=\"display:none;\">\n",
              "\n",
              "<svg xmlns=\"http://www.w3.org/2000/svg\" height=\"24px\"viewBox=\"0 0 24 24\"\n",
              "     width=\"24px\">\n",
              "    <g>\n",
              "        <path d=\"M19 3H5c-1.1 0-2 .9-2 2v14c0 1.1.9 2 2 2h14c1.1 0 2-.9 2-2V5c0-1.1-.9-2-2-2zM9 17H7v-7h2v7zm4 0h-2V7h2v10zm4 0h-2v-4h2v4z\"/>\n",
              "    </g>\n",
              "</svg>\n",
              "  </button>\n",
              "\n",
              "<style>\n",
              "  .colab-df-quickchart {\n",
              "      --bg-color: #E8F0FE;\n",
              "      --fill-color: #1967D2;\n",
              "      --hover-bg-color: #E2EBFA;\n",
              "      --hover-fill-color: #174EA6;\n",
              "      --disabled-fill-color: #AAA;\n",
              "      --disabled-bg-color: #DDD;\n",
              "  }\n",
              "\n",
              "  [theme=dark] .colab-df-quickchart {\n",
              "      --bg-color: #3B4455;\n",
              "      --fill-color: #D2E3FC;\n",
              "      --hover-bg-color: #434B5C;\n",
              "      --hover-fill-color: #FFFFFF;\n",
              "      --disabled-bg-color: #3B4455;\n",
              "      --disabled-fill-color: #666;\n",
              "  }\n",
              "\n",
              "  .colab-df-quickchart {\n",
              "    background-color: var(--bg-color);\n",
              "    border: none;\n",
              "    border-radius: 50%;\n",
              "    cursor: pointer;\n",
              "    display: none;\n",
              "    fill: var(--fill-color);\n",
              "    height: 32px;\n",
              "    padding: 0;\n",
              "    width: 32px;\n",
              "  }\n",
              "\n",
              "  .colab-df-quickchart:hover {\n",
              "    background-color: var(--hover-bg-color);\n",
              "    box-shadow: 0 1px 2px rgba(60, 64, 67, 0.3), 0 1px 3px 1px rgba(60, 64, 67, 0.15);\n",
              "    fill: var(--button-hover-fill-color);\n",
              "  }\n",
              "\n",
              "  .colab-df-quickchart-complete:disabled,\n",
              "  .colab-df-quickchart-complete:disabled:hover {\n",
              "    background-color: var(--disabled-bg-color);\n",
              "    fill: var(--disabled-fill-color);\n",
              "    box-shadow: none;\n",
              "  }\n",
              "\n",
              "  .colab-df-spinner {\n",
              "    border: 2px solid var(--fill-color);\n",
              "    border-color: transparent;\n",
              "    border-bottom-color: var(--fill-color);\n",
              "    animation:\n",
              "      spin 1s steps(1) infinite;\n",
              "  }\n",
              "\n",
              "  @keyframes spin {\n",
              "    0% {\n",
              "      border-color: transparent;\n",
              "      border-bottom-color: var(--fill-color);\n",
              "      border-left-color: var(--fill-color);\n",
              "    }\n",
              "    20% {\n",
              "      border-color: transparent;\n",
              "      border-left-color: var(--fill-color);\n",
              "      border-top-color: var(--fill-color);\n",
              "    }\n",
              "    30% {\n",
              "      border-color: transparent;\n",
              "      border-left-color: var(--fill-color);\n",
              "      border-top-color: var(--fill-color);\n",
              "      border-right-color: var(--fill-color);\n",
              "    }\n",
              "    40% {\n",
              "      border-color: transparent;\n",
              "      border-right-color: var(--fill-color);\n",
              "      border-top-color: var(--fill-color);\n",
              "    }\n",
              "    60% {\n",
              "      border-color: transparent;\n",
              "      border-right-color: var(--fill-color);\n",
              "    }\n",
              "    80% {\n",
              "      border-color: transparent;\n",
              "      border-right-color: var(--fill-color);\n",
              "      border-bottom-color: var(--fill-color);\n",
              "    }\n",
              "    90% {\n",
              "      border-color: transparent;\n",
              "      border-bottom-color: var(--fill-color);\n",
              "    }\n",
              "  }\n",
              "</style>\n",
              "\n",
              "  <script>\n",
              "    async function quickchart(key) {\n",
              "      const quickchartButtonEl =\n",
              "        document.querySelector('#' + key + ' button');\n",
              "      quickchartButtonEl.disabled = true;  // To prevent multiple clicks.\n",
              "      quickchartButtonEl.classList.add('colab-df-spinner');\n",
              "      try {\n",
              "        const charts = await google.colab.kernel.invokeFunction(\n",
              "            'suggestCharts', [key], {});\n",
              "      } catch (error) {\n",
              "        console.error('Error during call to suggestCharts:', error);\n",
              "      }\n",
              "      quickchartButtonEl.classList.remove('colab-df-spinner');\n",
              "      quickchartButtonEl.classList.add('colab-df-quickchart-complete');\n",
              "    }\n",
              "    (() => {\n",
              "      let quickchartButtonEl =\n",
              "        document.querySelector('#df-b458b35d-dd43-4a14-82d4-6df29e477651 button');\n",
              "      quickchartButtonEl.style.display =\n",
              "        google.colab.kernel.accessAllowed ? 'block' : 'none';\n",
              "    })();\n",
              "  </script>\n",
              "</div>\n",
              "    </div>\n",
              "  </div>\n"
            ]
          },
          "metadata": {},
          "execution_count": 7
        }
      ]
    },
    {
      "cell_type": "markdown",
      "metadata": {
        "id": "jc5Y9Pj4i8hA"
      },
      "source": [
        "#### **4. Splitting the data to X (inputs) and Y (output)**"
      ]
    },
    {
      "cell_type": "code",
      "source": [
        "# Extract features and target variable\n",
        "X = data_encoded.drop('Drug', axis=1)\n",
        "y = data_encoded['Drug']"
      ],
      "metadata": {
        "id": "9i5U0mGCD1_p"
      },
      "execution_count": 8,
      "outputs": []
    },
    {
      "cell_type": "markdown",
      "metadata": {
        "id": "hCz95gTgjRk1"
      },
      "source": [
        "#### **5.Modeling**"
      ]
    },
    {
      "cell_type": "code",
      "source": [
        "# Define a function for the experiment ( training , testing , evaluation )\n",
        "def run_experiment(X_train, X_test, y_train, y_test):\n",
        "    # Train a decision tree classifier\n",
        "    clf = DecisionTreeClassifier()\n",
        "    clf.fit(X_train, y_train)\n",
        "\n",
        "    # Make predictions\n",
        "    y_pred = clf.predict(X_test)\n",
        "\n",
        "    # Calculate accuracy\n",
        "    acc = accuracy_score(y_test, y_pred)\n",
        "\n",
        "    # Return the decision tree and accuracy\n",
        "    return clf, acc"
      ],
      "metadata": {
        "id": "LS8neUXncyK1"
      },
      "execution_count": 9,
      "outputs": []
    },
    {
      "cell_type": "markdown",
      "source": [
        "#### **Training and Testing with Fixed Train-Test Split Ratio**"
      ],
      "metadata": {
        "id": "XuOULWs-NW1J"
      }
    },
    {
      "cell_type": "code",
      "source": [
        "best_accuracy = 0\n",
        "best_model = None\n",
        "# Different random states values\n",
        "rs_values = [15, 20 , 26 , 36 , 42]\n",
        "for i , random_state in enumerate (rs_values , start = 1):\n",
        "    # Split the data\n",
        "    X_train, X_test, y_train, y_test = train_test_split(X, y, test_size=0.3, random_state= random_state )\n",
        "\n",
        "    # Run the experiment\n",
        "    tree, accuracy = run_experiment(X_train, X_test, y_train, y_test)\n",
        "\n",
        "    # Print results\n",
        "    print(f\"Experiment {i} --> Test Accuracy : {accuracy:.4f} , Training Size : {len(X_train)} , Testing Size : {len(X_test)} , Tree Size : {tree.tree_.node_count}\")\n",
        "\n",
        "    # To select the model that achieves the highest overall performance.\n",
        "    if accuracy > best_accuracy :\n",
        "      best_accuracy = accuracy\n",
        "      best_model = tree\n",
        "\n",
        "print ( \" \" )\n",
        "print (\"Best model : \")\n",
        "print(f\"Test Accuarcy : {best_accuracy:.4f} , Tree Size : {best_model.tree_.node_count}\")"
      ],
      "metadata": {
        "colab": {
          "base_uri": "https://localhost:8080/"
        },
        "id": "5vCBVnLtEUnf",
        "outputId": "ad5fb623-09f3-43d5-c9eb-5b17dbeb7fc3"
      },
      "execution_count": 10,
      "outputs": [
        {
          "output_type": "stream",
          "name": "stdout",
          "text": [
            "Experiment 1 --> Test Accuracy : 0.9831 , Training Size : 136 , Testing Size : 59 , Tree Size : 11\n",
            "Experiment 2 --> Test Accuracy : 0.9831 , Training Size : 136 , Testing Size : 59 , Tree Size : 11\n",
            "Experiment 3 --> Test Accuracy : 0.9831 , Training Size : 136 , Testing Size : 59 , Tree Size : 11\n",
            "Experiment 4 --> Test Accuracy : 1.0000 , Training Size : 136 , Testing Size : 59 , Tree Size : 11\n",
            "Experiment 5 --> Test Accuracy : 0.9831 , Training Size : 136 , Testing Size : 59 , Tree Size : 11\n",
            " \n",
            "Best model : \n",
            "Test Accuarcy : 1.0000 , Tree Size : 11\n"
          ]
        }
      ]
    },
    {
      "cell_type": "markdown",
      "source": [
        "#### **Training and Testing with a Range of Train-Test Split Ratios**"
      ],
      "metadata": {
        "id": "h2eZAz3XNu9o"
      }
    },
    {
      "cell_type": "code",
      "source": [
        "split_ratios = [0.3, 0.4, 0.5, 0.6, 0.7]\n",
        "results = {'Training Size': [], 'Mean Accuracy': [], 'Max Accuracy': [], 'Min Accuracy': [], 'Mean Tree Size': [] , 'Max Tree Size' : [] , 'Min Tree Size' : []}\n",
        "\n",
        "for split_ratio in split_ratios:\n",
        "    accuracies = []\n",
        "    tree_sizes = []\n",
        "\n",
        "    for random_state in rs_values :\n",
        "        # Split the data\n",
        "        X_train, X_test, y_train, y_test = train_test_split(X, y, test_size=1 - split_ratio, random_state= random_state)\n",
        "\n",
        "        # Run the experiment\n",
        "        tree, accuracy = run_experiment(X_train, X_test, y_train, y_test)\n",
        "\n",
        "        # Append results\n",
        "        accuracies.append(accuracy)\n",
        "        tree_sizes.append(tree.tree_.node_count)\n",
        "\n",
        "    # Calculate statistics\n",
        "    mean_accuracy = np.mean(accuracies)\n",
        "    max_accuracy = np.max(accuracies)\n",
        "    min_accuracy = np.min(accuracies)\n",
        "\n",
        "    mean_tree_size = np.mean(tree_sizes)\n",
        "    max_tree_size = np.max(tree_sizes)\n",
        "    min_tree_size = np.min(tree_sizes)\n",
        "\n",
        "\n",
        "    # Store results\n",
        "    results['Training Size'].append(split_ratio)\n",
        "    results['Mean Accuracy'].append(mean_accuracy)\n",
        "    results['Max Accuracy'].append(max_accuracy)\n",
        "    results['Min Accuracy'].append(min_accuracy)\n",
        "    results['Mean Tree Size'].append(mean_tree_size)\n",
        "    results['Max Tree Size'].append(max_tree_size)\n",
        "    results['Min Tree Size'].append(min_tree_size)"
      ],
      "metadata": {
        "id": "yYjSoLHYI9xA"
      },
      "execution_count": 11,
      "outputs": []
    },
    {
      "cell_type": "code",
      "source": [
        "# Display results\n",
        "result_df = pd.DataFrame(results)\n",
        "print(result_df)"
      ],
      "metadata": {
        "colab": {
          "base_uri": "https://localhost:8080/"
        },
        "id": "R5_f2dKSQULU",
        "outputId": "df93573f-49e1-4282-8153-312dfeb19011"
      },
      "execution_count": 12,
      "outputs": [
        {
          "output_type": "stream",
          "name": "stdout",
          "text": [
            "   Training Size  Mean Accuracy  Max Accuracy  Min Accuracy  Mean Tree Size  \\\n",
            "0            0.3       0.988321      0.992701      0.978102            11.4   \n",
            "1            0.4       0.988034      1.000000      0.974359            11.0   \n",
            "2            0.5       0.981633      1.000000      0.959184            11.0   \n",
            "3            0.6       0.987179      1.000000      0.974359            11.0   \n",
            "4            0.7       0.986441      1.000000      0.983051            11.0   \n",
            "\n",
            "   Max Tree Size  Min Tree Size  \n",
            "0             13             11  \n",
            "1             11             11  \n",
            "2             11             11  \n",
            "3             11             11  \n",
            "4             11             11  \n"
          ]
        }
      ]
    },
    {
      "cell_type": "markdown",
      "source": [
        "#### **Plots**"
      ],
      "metadata": {
        "id": "XOF64kS2Qrd3"
      }
    },
    {
      "cell_type": "code",
      "source": [
        "plt.figure(figsize=(12, 6))\n",
        "\n",
        "# Accuracy vs Training Set Size\n",
        "plt.subplot(1, 2, 1)\n",
        "plt.plot(result_df['Training Size'], result_df['Mean Accuracy'], marker='o')\n",
        "plt.title('Mean Accuracy vs Training Set Size')\n",
        "plt.xlabel('Training Set Size')\n",
        "plt.ylabel('Mean Accuracy')\n",
        "\n",
        "# Tree Size vs Training Set Size\n",
        "plt.subplot(1, 2, 2)\n",
        "plt.plot(result_df['Training Size'], result_df['Mean Tree Size'], marker='o')\n",
        "plt.title('Mean ree Size vs Training Set Size')\n",
        "plt.xlabel('Training Set Size')\n",
        "plt.ylabel('Mean Tree Size')\n",
        "\n",
        "plt.tight_layout()\n",
        "plt.show()"
      ],
      "metadata": {
        "colab": {
          "base_uri": "https://localhost:8080/",
          "height": 607
        },
        "id": "awK_VwQmQn3C",
        "outputId": "dbae82af-5508-4785-ca4d-897ab72df306"
      },
      "execution_count": 13,
      "outputs": [
        {
          "output_type": "display_data",
          "data": {
            "text/plain": [
              "<Figure size 1200x600 with 2 Axes>"
            ],
            "image/png": "[encoded data removed]"
          },
          "metadata": {}
        }
      ]
    },
    {
      "cell_type": "code",
      "source": [],
      "metadata": {
        "id": "G_iPOqiaSnGj"
      },
      "execution_count": 13,
      "outputs": []
    }
  ],
  "metadata": {
    "colab": {
      "provenance": []
    },
    "kernelspec": {
      "display_name": "Python 3",
      "name": "python3"
    },
    "language_info": {
      "name": "python"
    }
  },
  "nbformat": 4,
  "nbformat_minor": 0
}